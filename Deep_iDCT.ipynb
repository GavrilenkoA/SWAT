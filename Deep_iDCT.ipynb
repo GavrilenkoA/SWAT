{
 "cells": [
  {
   "cell_type": "markdown",
   "metadata": {},
   "source": [
    "## Running Lasso and Logistic regression into the compressed embeddings"
   ]
  },
  {
   "cell_type": "code",
   "execution_count": 1,
   "metadata": {},
   "outputs": [],
   "source": [
    "import os\n",
    "import numpy as np\n",
    "import pandas as pd\n",
    "import seaborn as sns\n",
    "import matplotlib.pyplot as plt\n",
    "\n",
    "import pickle\n",
    "from scipy.stats import spearmanr\n",
    "\n",
    "from sklearn import metrics\n",
    "\n",
    "import torch\n",
    "import torch.nn as nn\n",
    "from tqdm import tqdm\n",
    "import torch.optim as optim\n",
    "from torch.utils.data import DataLoader, TensorDataset"
   ]
  },
  {
   "cell_type": "markdown",
   "metadata": {},
   "source": [
    "## Data Loaders "
   ]
  },
  {
   "cell_type": "code",
   "execution_count": 7,
   "metadata": {},
   "outputs": [],
   "source": [
    "def load_data(dataset_name, compression_methd):\n",
    "\n",
    "    if dataset_name == 'beta_lactamase':\n",
    "        target_name = 'scaled_effect1'\n",
    "    elif dataset_name == 'fluorescence':\n",
    "        target_name = 'log_fluorescence'\n",
    "    elif dataset_name == 'subcellular_localization' or dataset_name == 'subcellular_localization_2':\n",
    "        target_name = 'localization'\n",
    "    elif dataset_name == 'solubility':\n",
    "        target_name = 'solubility'\n",
    "    elif dataset_name == 'stability':\n",
    "        target_name = 'stability_score'\n",
    "\n",
    "\n",
    "    ## train\n",
    "    metadata_train = pd.read_csv(f'data/benchmarks/{dataset_name}/{dataset_name}_train_metadata.csv')\n",
    "    embed = pd.read_pickle(f'embeddings/embeddings_benchmarks_esm2_150M/{dataset_name}_train_esm2_150M_compressed/embed_layer_30_{compression_methd}.pkl')\n",
    "    embed = pd.DataFrame.from_dict(embed, orient='index').reset_index()\n",
    "    embed.rename(columns={'index':'ID'}, inplace=True)\n",
    "    train = pd.merge(metadata_train,embed, on='ID')\n",
    "    y_train = train[target_name].values\n",
    "    X_train = train.iloc[:, metadata_train.shape[1]:].values\n",
    "   \n",
    "    ## test\n",
    "    metadata_test = pd.read_csv(f'data/benchmarks/{dataset_name}/{dataset_name}_test_metadata.csv')\n",
    "    embed = pd.read_pickle(f'embeddings/embeddings_benchmarks_esm2_150M/{dataset_name}_test_esm2_150M_compressed/embed_layer_30_{compression_methd}.pkl')\n",
    "    embed = pd.DataFrame.from_dict(embed, orient='index').reset_index()\n",
    "    embed.rename(columns={'index':'ID'}, inplace=True)\n",
    "    test = pd.merge(metadata_test,embed, on='ID')\n",
    "    y_test = test[target_name].values\n",
    "    X_test = test.iloc[:, metadata_test.shape[1]:].values\n",
    "\n",
    "\n",
    "    ## val\n",
    "    metadata_valid = pd.read_csv(f'data/benchmarks/{dataset_name}/{dataset_name}_valid_metadata.csv')\n",
    "    embed = pd.read_pickle(f'embeddings/embeddings_benchmarks_esm2_150M/{dataset_name}_valid_esm2_150M_compressed/embed_layer_30_{compression_methd}.pkl')\n",
    "    embed = pd.DataFrame.from_dict(embed, orient='index').reset_index()\n",
    "    embed.rename(columns={'index':'ID'}, inplace=True)\n",
    "    val = pd.merge(metadata_valid, embed, on='ID')\n",
    "    y_val = val[target_name].values\n",
    "    X_val = val.iloc[:, metadata_valid.shape[1]:].values\n",
    "\n",
    "    print('Dataset statistics')\n",
    "    print(f\"Train --> X:{X_train.shape}, y:{y_train.shape}\\nVal  --> X:{X_val.shape}, y:{y_val.shape}\\nTest --> X:{X_test.shape}, y:{y_test.shape}\")\n",
    "    \n",
    "    \n",
    "    # Check if CUDA is available\n",
    "    device = torch.device('cuda' if torch.cuda.is_available() else 'cpu')\n",
    "    print(f\"Using device: {device}\")\n",
    "\n",
    "    # Convert them to PyTorch tensors and send them to the chosen device\n",
    "    X_train, y_train = torch.from_numpy(X_train).float().to(device), torch.from_numpy(y_train).float().to(device)\n",
    "    X_val, y_val = torch.from_numpy(X_val).float().to(device), torch.from_numpy(y_val).float().to(device)\n",
    "    X_test, y_test = torch.from_numpy(X_test).float().to(device), torch.from_numpy(y_test).float().to(device)\n",
    "\n",
    "\n",
    "    # Create TensorDatasets\n",
    "    train_dataset = TensorDataset(X_train, y_train)\n",
    "    val_dataset = TensorDataset(X_val, y_val)\n",
    "    test_dataset = TensorDataset(X_test, y_test)\n",
    "\n",
    "\n",
    "    # Create DataLoaders\n",
    "    batch_size = 64\n",
    "    train_loader = DataLoader(dataset=train_dataset, batch_size=batch_size, shuffle=True)\n",
    "    val_loader = DataLoader(dataset=val_dataset, batch_size=batch_size, shuffle=False)\n",
    "    test_loader = DataLoader(dataset=test_dataset, batch_size=batch_size, shuffle=False)\n",
    "    \n",
    "    return train_loader, val_loader, test_loader"
   ]
  },
  {
   "cell_type": "code",
   "execution_count": 8,
   "metadata": {},
   "outputs": [
    {
     "name": "stdout",
     "output_type": "stream",
     "text": [
      "Dataset statistics\n",
      "Train --> X:(4158, 5120), y:(4158,)\n",
      "Val  --> X:(520, 5120), y:(520,)\n",
      "Test --> X:(520, 5120), y:(520,)\n",
      "Using device: cuda\n"
     ]
    }
   ],
   "source": [
    "train_loader, val_loader, test_loader = load_data('beta_lactamase', 'iDCT')"
   ]
  },
  {
   "cell_type": "code",
   "execution_count": 9,
   "metadata": {},
   "outputs": [
    {
     "data": {
      "text/plain": [
       "RegressionNet(\n",
       "  (layer1): Linear(in_features=5120, out_features=640, bias=True)\n",
       "  (layer2): Linear(in_features=640, out_features=1, bias=True)\n",
       "  (relu): ReLU()\n",
       ")"
      ]
     },
     "execution_count": 9,
     "metadata": {},
     "output_type": "execute_result"
    }
   ],
   "source": [
    "# Define the model\n",
    "class RegressionNet(nn.Module):\n",
    "    def __init__(self, input_size):\n",
    "        super(RegressionNet, self).__init__()\n",
    "        self.layer1 = nn.Linear(input_size, input_size//8)\n",
    "        self.layer2 = nn.Linear(input_size//8, 1)\n",
    "        self.relu = nn.ReLU()\n",
    "\n",
    "    def forward(self, x):\n",
    "        x = self.layer1(x)\n",
    "        x = self.relu(x)\n",
    "        x = self.layer2(x)\n",
    "        return x\n",
    "\n",
    "model = RegressionNet(5120)\n",
    "model.to('cuda')"
   ]
  },
  {
   "cell_type": "code",
   "execution_count": 14,
   "metadata": {},
   "outputs": [],
   "source": [
    "from sklearn.metrics import r2_score\n",
    "from scipy.stats import spearmanr\n",
    "\n",
    "def evaluate_model(model, loader, dataset_name=\"Validation\"):\n",
    "    model.eval()\n",
    "    predictions, actuals = [], []\n",
    "    with torch.no_grad():\n",
    "        for inputs, targets in loader:\n",
    "            outputs = model(inputs)\n",
    "            # Collect all predictions and actual targets\n",
    "            predictions.append(outputs)\n",
    "            actuals.append(targets.view(-1, 1))\n",
    "    \n",
    "    # Convert lists of batches into a single tensor\n",
    "    predictions = torch.cat(predictions).cpu().numpy()\n",
    "    actuals = torch.cat(actuals).cpu().numpy()\n",
    "    \n",
    "    # Calculate R^2 score\n",
    "    r2 = r2_score(actuals, predictions)\n",
    "    print(f'{dataset_name} set R^2: {r2:.4f}')\n",
    "\n",
    "    # Calculate Spearman's rank correlation\n",
    "    corr, _ = spearmanr(actuals, predictions)\n",
    "    print(f'{dataset_name} set Rho: {corr:.4f}')"
   ]
  },
  {
   "cell_type": "code",
   "execution_count": 7,
   "metadata": {},
   "outputs": [],
   "source": [
    "def train_model(model, train_loader, num_epochs, learn_rate):\n",
    "    # Loss and Optimizer\n",
    "    criterion = nn.MSELoss()\n",
    "    optimizer = optim.Adam(model.parameters(), lr=learn_rate)\n",
    "    # Initialize a single progress bar for all epochs\n",
    "    pbar = tqdm(total=num_epochs, desc='Training Progress', unit='epoch')\n",
    "    model.train()\n",
    "    for epoch in range(num_epochs):\n",
    "        epoch_loss = 0\n",
    "        for inputs, targets in train_loader:\n",
    "            # Move data to the correct device\n",
    "            inputs, targets = inputs.to(device), targets.to(device)\n",
    "            # Forward pass\n",
    "            outputs = model(inputs)\n",
    "            loss = criterion(outputs, targets.view(-1, 1))\n",
    "            # Backward and optimize\n",
    "            optimizer.zero_grad()\n",
    "            loss.backward()\n",
    "            optimizer.step()\n",
    "            # Accumulate the loss over the epoch\n",
    "            epoch_loss += loss.item()\n",
    "        # Update the progress bar with the average loss for the current epoch\n",
    "        pbar.set_description(f'Epoch {epoch+1}/{num_epochs}')\n",
    "        pbar.set_postfix(avg_loss=epoch_loss / len(train_loader))\n",
    "        pbar.update(1)  # Move the progress bar forward for one epoch\n",
    "    pbar.close()"
   ]
  },
  {
   "cell_type": "code",
   "execution_count": 8,
   "metadata": {},
   "outputs": [
    {
     "name": "stdout",
     "output_type": "stream",
     "text": [
      "Training model with learning rate: 1e-05\n"
     ]
    },
    {
     "name": "stderr",
     "output_type": "stream",
     "text": [
      "Epoch 100/100: 100%|██████████| 100/100 [00:05<00:00, 17.04epoch/s, avg_loss=0.0676]\n"
     ]
    },
    {
     "name": "stdout",
     "output_type": "stream",
     "text": [
      "train set R^2: 0.3271\n",
      "train set Rho: 0.6734\n",
      "Validation set R^2: 0.2823\n",
      "Validation set Rho: 0.6340\n",
      "Test set R^2: 0.2796\n",
      "Test set Rho: 0.6107\n",
      "\n",
      "Training model with learning rate: 2e-05\n"
     ]
    },
    {
     "name": "stderr",
     "output_type": "stream",
     "text": [
      "Epoch 100/100: 100%|██████████| 100/100 [00:05<00:00, 17.32epoch/s, avg_loss=0.0567]\n"
     ]
    },
    {
     "name": "stdout",
     "output_type": "stream",
     "text": [
      "train set R^2: 0.4495\n",
      "train set Rho: 0.7125\n",
      "Validation set R^2: 0.3960\n",
      "Validation set Rho: 0.6663\n",
      "Test set R^2: 0.3907\n",
      "Test set Rho: 0.6530\n",
      "\n",
      "Training model with learning rate: 5e-05\n"
     ]
    },
    {
     "name": "stderr",
     "output_type": "stream",
     "text": [
      "Epoch 100/100: 100%|██████████| 100/100 [00:05<00:00, 17.08epoch/s, avg_loss=0.0521]\n"
     ]
    },
    {
     "name": "stdout",
     "output_type": "stream",
     "text": [
      "train set R^2: 0.5331\n",
      "train set Rho: 0.7429\n",
      "Validation set R^2: 0.4762\n",
      "Validation set Rho: 0.6952\n",
      "Test set R^2: 0.4667\n",
      "Test set Rho: 0.6888\n",
      "\n",
      "Training model with learning rate: 0.0001\n"
     ]
    },
    {
     "name": "stderr",
     "output_type": "stream",
     "text": [
      "Epoch 100/100: 100%|██████████| 100/100 [00:05<00:00, 16.95epoch/s, avg_loss=0.0504]\n"
     ]
    },
    {
     "name": "stdout",
     "output_type": "stream",
     "text": [
      "train set R^2: 0.5403\n",
      "train set Rho: 0.7515\n",
      "Validation set R^2: 0.4869\n",
      "Validation set Rho: 0.7028\n",
      "Test set R^2: 0.4719\n",
      "Test set Rho: 0.7007\n",
      "\n",
      "Training model with learning rate: 0.0002\n"
     ]
    },
    {
     "name": "stderr",
     "output_type": "stream",
     "text": [
      "Epoch 100/100: 100%|██████████| 100/100 [00:06<00:00, 16.01epoch/s, avg_loss=0.0596]\n"
     ]
    },
    {
     "name": "stdout",
     "output_type": "stream",
     "text": [
      "train set R^2: 0.4008\n",
      "train set Rho: 0.7421\n",
      "Validation set R^2: 0.3407\n",
      "Validation set Rho: 0.6929\n",
      "Test set R^2: 0.3489\n",
      "Test set Rho: 0.6901\n",
      "\n",
      "Training model with learning rate: 0.0005\n"
     ]
    },
    {
     "name": "stderr",
     "output_type": "stream",
     "text": [
      "Epoch 100/100: 100%|██████████| 100/100 [00:05<00:00, 16.86epoch/s, avg_loss=0.0563]\n"
     ]
    },
    {
     "name": "stdout",
     "output_type": "stream",
     "text": [
      "train set R^2: 0.3931\n",
      "train set Rho: 0.6907\n",
      "Validation set R^2: 0.3414\n",
      "Validation set Rho: 0.6467\n",
      "Test set R^2: 0.3426\n",
      "Test set Rho: 0.6305\n",
      "\n",
      "Training model with learning rate: 0.001\n"
     ]
    },
    {
     "name": "stderr",
     "output_type": "stream",
     "text": [
      "Epoch 100/100: 100%|██████████| 100/100 [00:05<00:00, 16.97epoch/s, avg_loss=0.0548]\n"
     ]
    },
    {
     "name": "stdout",
     "output_type": "stream",
     "text": [
      "train set R^2: 0.4206\n",
      "train set Rho: 0.7345\n",
      "Validation set R^2: 0.3603\n",
      "Validation set Rho: 0.6826\n",
      "Test set R^2: 0.3663\n",
      "Test set Rho: 0.6793\n",
      "\n",
      "Training model with learning rate: 0.002\n"
     ]
    },
    {
     "name": "stderr",
     "output_type": "stream",
     "text": [
      "Epoch 100/100: 100%|██████████| 100/100 [00:05<00:00, 16.97epoch/s, avg_loss=0.049]\n"
     ]
    },
    {
     "name": "stdout",
     "output_type": "stream",
     "text": [
      "train set R^2: 0.5400\n",
      "train set Rho: 0.7527\n",
      "Validation set R^2: 0.4836\n",
      "Validation set Rho: 0.7030\n",
      "Test set R^2: 0.4660\n",
      "Test set Rho: 0.7010\n",
      "\n",
      "Training model with learning rate: 0.005\n"
     ]
    },
    {
     "name": "stderr",
     "output_type": "stream",
     "text": [
      "Epoch 100/100: 100%|██████████| 100/100 [00:05<00:00, 17.02epoch/s, avg_loss=0.045]\n"
     ]
    },
    {
     "name": "stdout",
     "output_type": "stream",
     "text": [
      "train set R^2: 0.4336\n",
      "train set Rho: 0.7682\n",
      "Validation set R^2: 0.3697\n",
      "Validation set Rho: 0.7197\n",
      "Test set R^2: 0.3704\n",
      "Test set Rho: 0.7203\n",
      "\n",
      "Training model with learning rate: 0.01\n"
     ]
    },
    {
     "name": "stderr",
     "output_type": "stream",
     "text": [
      "Epoch 100/100: 100%|██████████| 100/100 [00:05<00:00, 17.17epoch/s, avg_loss=0.0556]\n"
     ]
    },
    {
     "name": "stdout",
     "output_type": "stream",
     "text": [
      "train set R^2: 0.5737\n",
      "train set Rho: 0.7688\n",
      "Validation set R^2: 0.5131\n",
      "Validation set Rho: 0.7213\n",
      "Test set R^2: 0.5057\n",
      "Test set Rho: 0.7230\n",
      "\n",
      "Training model with learning rate: 0.02\n"
     ]
    },
    {
     "name": "stderr",
     "output_type": "stream",
     "text": [
      "Epoch 100/100: 100%|██████████| 100/100 [00:05<00:00, 17.33epoch/s, avg_loss=0.1]\n",
      "/stor/work/Wilke/luiz/DMS_iDCT/venv/lib/python3.8/site-packages/scipy/stats/_stats_py.py:4916: ConstantInputWarning: An input array is constant; the correlation coefficient is not defined.\n",
      "  warnings.warn(stats.ConstantInputWarning(warn_msg))\n"
     ]
    },
    {
     "name": "stdout",
     "output_type": "stream",
     "text": [
      "train set R^2: -0.0000\n",
      "train set Rho: nan\n",
      "Validation set R^2: -0.0034\n",
      "Validation set Rho: nan\n",
      "Test set R^2: 0.0000\n",
      "Test set Rho: nan\n",
      "\n"
     ]
    },
    {
     "name": "stderr",
     "output_type": "stream",
     "text": [
      "/stor/work/Wilke/luiz/DMS_iDCT/venv/lib/python3.8/site-packages/scipy/stats/_stats_py.py:4916: ConstantInputWarning: An input array is constant; the correlation coefficient is not defined.\n",
      "  warnings.warn(stats.ConstantInputWarning(warn_msg))\n",
      "/stor/work/Wilke/luiz/DMS_iDCT/venv/lib/python3.8/site-packages/scipy/stats/_stats_py.py:4916: ConstantInputWarning: An input array is constant; the correlation coefficient is not defined.\n",
      "  warnings.warn(stats.ConstantInputWarning(warn_msg))\n"
     ]
    }
   ],
   "source": [
    "lr_values = [1e-5, 2e-5, 5e-5, 1e-4, 2e-4, 5e-4, 1e-3, 2e-3, 5e-3, 1e-2]\n",
    "\n",
    "for lr in lr_values: \n",
    "\n",
    "    print(f\"Training model with learning rate: {lr}\")\n",
    "    model = RegressionNet(5120)\n",
    "    model.to('cuda')\n",
    "    epochs = 100\n",
    "    train_model(model, train_loader, epochs, lr)\n",
    "    evaluate_model(model, train_loader, \"train\")\n",
    "    evaluate_model(model, val_loader, \"Validation\")\n",
    "    evaluate_model(model, test_loader, \"Test\")\n",
    "    print()"
   ]
  },
  {
   "cell_type": "markdown",
   "metadata": {},
   "source": [
    "## Trainer"
   ]
  },
  {
   "cell_type": "code",
   "execution_count": 10,
   "metadata": {},
   "outputs": [],
   "source": [
    "class Trainer():\n",
    "    def __init__(self, model, train_loader, val_loader, test_loader, learn_rate):\n",
    "        self.model = model\n",
    "        self.learn_rate = learn_rate\n",
    "        self.train_loader = train_loader\n",
    "        self.val_loader = val_loader\n",
    "        self.test_loader = test_loader\n",
    "        self.history = {'train_loss': [], 'val_loss': []}\n",
    "        self.best_model = None\n",
    "    \n",
    "    def train(self):\n",
    "        loss_fct = nn.MSELoss()\n",
    "        optimizer = optim.Adam(self.model.parameters(), lr=self.learn_rate)\n",
    "        model.train()\n",
    "        train_losses = []\n",
    "        for inputs, targets in train_loader:\n",
    "            inputs, targets = inputs.to(device), targets.to(device)\n",
    "            # Forward pass\n",
    "            outputs = model(inputs)\n",
    "            loss = loss_fct(outputs, targets.view(-1, 1))\n",
    "            # Backward and optimize\n",
    "            optimizer.zero_grad()\n",
    "            loss.backward()\n",
    "            optimizer.step()\n",
    "            train_losses.append(loss.item())\n",
    "        train_avg_loss = np.mean(train_losses)\n",
    "        return train_avg_loss\n",
    "        \n",
    "    def eval(self):\n",
    "        loss_fct = nn.MSELoss()\n",
    "        model.eval()\n",
    "        eval_losses = []\n",
    "\n",
    "        with torch.no_grad():\n",
    "            for inputs, targets in val_loader:\n",
    "                inputs, targets = inputs.to(device), targets.to(device)\n",
    "                outputs = model(inputs)\n",
    "                loss = loss_fct(outputs, targets.view(-1, 1))\n",
    "                eval_losses.append(loss.item())\n",
    "        eval_avg_loss = np.mean(eval_losses)\n",
    "        return eval_avg_loss\n",
    "        \n",
    "    \n",
    "    def run(self, num_epochs):\n",
    "        Best_val_loss = float('inf')\n",
    "        best_model_state = None \n",
    "        best_epoch = 0\n",
    "        pbar = tqdm(total=num_epochs, desc='Training Progress', unit='epoch')\n",
    "        \n",
    "        for epoch in range(num_epochs):\n",
    "            train_loss = self.train()\n",
    "            eval_loss = self.eval()\n",
    "            \n",
    "            if eval_loss < Best_val_loss:\n",
    "                Best_val_loss = eval_loss\n",
    "                best_model_state = self.model.state_dict()\n",
    "                best_epoch = epoch + 1\n",
    "\n",
    "            self.history['train_loss'].append(train_loss)\n",
    "            self.history['val_loss'].append(eval_loss)\n",
    "            \n",
    "            # Update the progress bar with the average loss for the current epoch\n",
    "            pbar.set_description(f'Epoch {epoch+1}/{num_epochs}')\n",
    "            pbar.set_postfix(train_loss=train_loss, val_loss=eval_loss)\n",
    "            pbar.update(1)\n",
    "        pbar.close()  \n",
    "\n",
    "        if best_model_state is not None:\n",
    "            self.model.load_state_dict(best_model_state)\n",
    "            print(f\"Best model loaded from epoch {best_epoch} with validation loss of {Best_val_loss:.4f}\")\n",
    "\n",
    "        return self.model, self.history"
   ]
  },
  {
   "cell_type": "code",
   "execution_count": 10,
   "metadata": {},
   "outputs": [
    {
     "name": "stderr",
     "output_type": "stream",
     "text": [
      "Epoch 2/1000:   0%|          | 2/1000 [00:00<01:01, 16.19epoch/s, train_loss=0.103, val_loss=0.106]"
     ]
    },
    {
     "name": "stderr",
     "output_type": "stream",
     "text": [
      "Epoch 1000/1000: 100%|██████████| 1000/1000 [01:02<00:00, 16.03epoch/s, train_loss=0.0441, val_loss=0.0419]"
     ]
    },
    {
     "name": "stdout",
     "output_type": "stream",
     "text": [
      "Best model loaded from epoch 989 with validation loss of 0.0410\n"
     ]
    },
    {
     "name": "stderr",
     "output_type": "stream",
     "text": [
      "\n"
     ]
    }
   ],
   "source": [
    "model = RegressionNet(5120)\n",
    "model.to('cuda')\n",
    "\n",
    "trainer = Trainer(model, train_loader, val_loader, test_loader, 0.001)\n",
    "model, history = trainer.run(1000)"
   ]
  },
  {
   "cell_type": "code",
   "execution_count": 38,
   "metadata": {},
   "outputs": [
    {
     "name": "stdout",
     "output_type": "stream",
     "text": [
      "Test set R^2: 0.3781\n",
      "Test set Rho: 0.6514\n"
     ]
    }
   ],
   "source": [
    "evaluate_model(model, test_loader, \"Test\")"
   ]
  },
  {
   "cell_type": "code",
   "execution_count": 12,
   "metadata": {},
   "outputs": [
    {
     "data": {
      "image/png": "[encoded data removed]",
      "text/plain": [
       "<Figure size 1000x500 with 1 Axes>"
      ]
     },
     "metadata": {},
     "output_type": "display_data"
    }
   ],
   "source": [
    "# Plotting the training and validation loss\n",
    "plt.figure(figsize=(10, 5))\n",
    "plt.plot(history['train_loss'], label='Train Loss')\n",
    "plt.plot(history['val_loss'], label='Validation Loss')\n",
    "plt.xlabel('Epochs')\n",
    "plt.ylabel('Loss')\n",
    "plt.title('Training and Validation Loss')\n",
    "plt.legend()\n",
    "plt.grid(axis='y')\n",
    "plt.show()"
   ]
  },
  {
   "cell_type": "markdown",
   "metadata": {},
   "source": [
    "## Fluorescence"
   ]
  },
  {
   "cell_type": "code",
   "execution_count": 11,
   "metadata": {},
   "outputs": [
    {
     "name": "stdout",
     "output_type": "stream",
     "text": [
      "Dataset statistics\n",
      "Train --> X:(21446, 5120), y:(21446,)\n",
      "Val  --> X:(5362, 5120), y:(5362,)\n",
      "Test --> X:(27217, 5120), y:(27217,)\n",
      "Using device: cuda\n"
     ]
    }
   ],
   "source": [
    "train_loader, val_loader, test_loader = load_data('fluorescence', 'iDCT')"
   ]
  },
  {
   "cell_type": "code",
   "execution_count": 39,
   "metadata": {},
   "outputs": [
    {
     "name": "stderr",
     "output_type": "stream",
     "text": [
      "Training Progress:   0%|          | 0/100 [00:00<?, ?epoch/s]"
     ]
    },
    {
     "name": "stderr",
     "output_type": "stream",
     "text": [
      "Epoch 100/100: 100%|██████████| 100/100 [00:56<00:00,  1.76epoch/s, train_loss=0.196, val_loss=0.215]"
     ]
    },
    {
     "name": "stdout",
     "output_type": "stream",
     "text": [
      "Best model loaded from epoch 98 with validation loss of 0.1519\n"
     ]
    },
    {
     "name": "stderr",
     "output_type": "stream",
     "text": [
      "\n"
     ]
    }
   ],
   "source": [
    "model = RegressionNet(5120)\n",
    "model.to('cuda')\n",
    "\n",
    "trainer = Trainer(model, train_loader, val_loader, test_loader, 0.005)\n",
    "model, history = trainer.run(100)"
   ]
  },
  {
   "cell_type": "code",
   "execution_count": 40,
   "metadata": {},
   "outputs": [
    {
     "name": "stdout",
     "output_type": "stream",
     "text": [
      "Test set R^2: 0.4099\n",
      "Test set Rho: 0.6603\n"
     ]
    }
   ],
   "source": [
    "evaluate_model(model, test_loader, \"Test\")"
   ]
  },
  {
   "cell_type": "code",
   "execution_count": 41,
   "metadata": {},
   "outputs": [
    {
     "data": {
      "image/png": "[encoded data removed]",
      "text/plain": [
       "<Figure size 1000x500 with 1 Axes>"
      ]
     },
     "metadata": {},
     "output_type": "display_data"
    }
   ],
   "source": [
    "# Plotting the training and validation loss\n",
    "plt.figure(figsize=(10, 5))\n",
    "plt.plot(history['train_loss'], label='Train Loss')\n",
    "plt.plot(history['val_loss'], label='Validation Loss')\n",
    "plt.xlabel('Epochs')\n",
    "plt.ylabel('Loss')\n",
    "plt.title('Training and Validation Loss')\n",
    "plt.legend()\n",
    "plt.grid(axis='y')\n",
    "plt.show()"
   ]
  },
  {
   "cell_type": "markdown",
   "metadata": {},
   "source": [
    "# Results\n",
    "## IDCT\n",
    "Average Validation Loss: 0.0292\n",
    "\n",
    "Validation set R^2: 0.7014\n",
    "Test set R^2: 0.6625\n",
    "\n",
    "Validation set Spearman correlation: 0.8471\n",
    "Test set Spearman correlation: 0.8519\n",
    "\n",
    "## Mean\n",
    "Average Validation Loss: 0.0344\n",
    "\n",
    "Validation set R^2: 0.6700\n",
    "Test set R^2: 0.6649\n",
    "\n",
    "Validation set Spearman correlation: 0.7620\n",
    "Test set Spearman correlation: 0.7593"
   ]
  },
  {
   "cell_type": "code",
   "execution_count": null,
   "metadata": {},
   "outputs": [],
   "source": []
  },
  {
   "cell_type": "code",
   "execution_count": null,
   "metadata": {},
   "outputs": [],
   "source": []
  }
 ],
 "metadata": {
  "kernelspec": {
   "display_name": "venv",
   "language": "python",
   "name": "python3"
  },
  "language_info": {
   "codemirror_mode": {
    "name": "ipython",
    "version": 3
   },
   "file_extension": ".py",
   "mimetype": "text/x-python",
   "name": "python",
   "nbconvert_exporter": "python",
   "pygments_lexer": "ipython3",
   "version": "3.8.10"
  }
 },
 "nbformat": 4,
 "nbformat_minor": 2
}
